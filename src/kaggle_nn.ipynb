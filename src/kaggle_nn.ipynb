{
 "cells": [
  {
   "cell_type": "code",
   "execution_count": 38,
   "metadata": {},
   "outputs": [],
   "source": [
    "import numpy as np\n",
    "from IPython.core.debugger import set_trace\n",
    "from pre_processing import get_splits, get_training, get_test\n",
    "from NNClassifier import NNClassifier\n",
    "from sklearn.metrics import accuracy_score\n",
    "from importlib import reload\n",
    "from datetime import datetime\n",
    "pixels = 28 * 28"
   ]
  },
  {
   "cell_type": "code",
   "execution_count": 2,
   "metadata": {},
   "outputs": [],
   "source": [
    "# RUN THIS CELL FOR SPLITTING TRAINING DATA INTO TRAINING AND TEST\n",
    "training, test = get_splits()"
   ]
  },
  {
   "cell_type": "code",
   "execution_count": 3,
   "metadata": {
    "collapsed": true
   },
   "outputs": [],
   "source": [
    "# RUN THIS CELL FOR ALL TRAINING DATA AS TRAINING, AND TEST DATA FROM COMPETITION\n",
    "training = get_training()\n",
    "test = get_test()"
   ]
  },
  {
   "cell_type": "code",
   "execution_count": 13,
   "metadata": {},
   "outputs": [],
   "source": [
    "X_test = np.array([x for x, y in test])\n",
    "y_test = np.array([y for x, y in test])"
   ]
  },
  {
   "cell_type": "code",
   "execution_count": 81,
   "metadata": {},
   "outputs": [],
   "source": [
    "learning_rates = np.logspace(-4,0, num=5)"
   ]
  },
  {
   "cell_type": "code",
   "execution_count": 82,
   "metadata": {},
   "outputs": [
    {
     "data": {
      "text/plain": [
       "0.0001"
      ]
     },
     "execution_count": 82,
     "metadata": {},
     "output_type": "execute_result"
    }
   ],
   "source": [
    "learning_rates[0]"
   ]
  },
  {
   "cell_type": "code",
   "execution_count": 67,
   "metadata": {},
   "outputs": [],
   "source": [
    "# 3 Layers, input layer 784 neurons, 1 hidden layer with 150 neurons, output layer with 10 neurons\n",
    "\n",
    "clf = NNClassifier(np.array([pixels, 150, 10]))\n",
    "clf_2 = NNClassifier(np.array([pixels, 300,150,10]))\n",
    "clfs = [clf]"
   ]
  },
  {
   "cell_type": "code",
   "execution_count": 70,
   "metadata": {},
   "outputs": [
    {
     "name": "stdout",
     "output_type": "stream",
     "text": [
      "Neurel Net Acc:  0.7358\n"
     ]
    }
   ],
   "source": [
    "predictions = clfs[0].predict(X_test)\n",
    "acc = accuracy_score(y_test, predictions)\n",
    "print(\"Neurel Net Acc: \",acc)"
   ]
  },
  {
   "cell_type": "code",
   "execution_count": 77,
   "metadata": {},
   "outputs": [
    {
     "name": "stdout",
     "output_type": "stream",
     "text": [
      "2018-03-19 14:01:34.040024 Fitting clf:  0 with learning rate:  1\n",
      "Epoch 0 complete\n",
      "Epoch 1 complete\n",
      "Epoch 2 complete\n",
      "Epoch 3 complete\n",
      "Epoch 4 complete\n",
      "Epoch 5 complete\n",
      "Epoch 6 complete\n",
      "Epoch 7 complete\n",
      "Epoch 8 complete\n",
      "Epoch 9 complete\n",
      "Epoch 10 complete\n",
      "Epoch 11 complete\n",
      "Epoch 12 complete\n",
      "Epoch 13 complete\n",
      "Epoch 14 complete\n",
      "Epoch 15 complete\n",
      "Epoch 16 complete\n",
      "Epoch 17 complete\n",
      "Epoch 18 complete\n",
      "Epoch 19 complete\n",
      "Epoch 20 complete\n",
      "Epoch 21 complete\n",
      "Epoch 22 complete\n",
      "Epoch 23 complete\n",
      "Epoch 24 complete\n",
      "Epoch 25 complete\n",
      "Epoch 26 complete\n",
      "Epoch 27 complete\n",
      "Epoch 28 complete\n",
      "Epoch 29 complete\n",
      "Epoch 30 complete\n",
      "Epoch 31 complete\n",
      "Epoch 32 complete\n",
      "Epoch 33 complete\n",
      "Epoch 34 complete\n",
      "Epoch 35 complete\n",
      "Epoch 36 complete\n",
      "Epoch 37 complete\n",
      "Epoch 38 complete\n",
      "Epoch 39 complete\n",
      "Neurel Net Acc:  0.9006\n"
     ]
    }
   ],
   "source": [
    "for clf in range(len(clfs)):\n",
    "    for lr in learning_rates:\n",
    "        print(str(datetime.now()),\"Fitting clf: \", clf, \"with learning rate: \", lr)\n",
    "        clfs[clf].fit(training,epochs=40,mini_batch_size=30, l_rate=lr)\n",
    "        predictions = clfs[clf].predict(X_test)\n",
    "        acc = accuracy_score(y_test, predictions)\n",
    "        print(\"Neurel Net Acc: \",acc)"
   ]
  },
  {
   "cell_type": "code",
   "execution_count": 4,
   "metadata": {},
   "outputs": [
    {
     "name": "stdout",
     "output_type": "stream",
     "text": [
      "Epoch 0 complete\n",
      "Epoch 1 complete\n",
      "Epoch 2 complete\n",
      "Epoch 3 complete\n",
      "Epoch 4 complete\n",
      "Epoch 5 complete\n",
      "Epoch 6 complete\n",
      "Epoch 7 complete\n",
      "Epoch 8 complete\n",
      "Epoch 9 complete\n",
      "Epoch 10 complete\n",
      "Epoch 11 complete\n",
      "Epoch 12 complete\n",
      "Epoch 13 complete\n",
      "Epoch 14 complete\n",
      "Epoch 15 complete\n",
      "Epoch 16 complete\n",
      "Epoch 17 complete\n",
      "Epoch 18 complete\n",
      "Epoch 19 complete\n",
      "Epoch 20 complete\n",
      "Epoch 21 complete\n",
      "Epoch 22 complete\n",
      "Epoch 23 complete\n",
      "Epoch 24 complete\n",
      "Epoch 25 complete\n",
      "Epoch 26 complete\n",
      "Epoch 27 complete\n",
      "Epoch 28 complete\n",
      "Epoch 29 complete\n",
      "Epoch 30 complete\n",
      "Epoch 31 complete\n",
      "Epoch 32 complete\n",
      "Epoch 33 complete\n",
      "Epoch 34 complete\n",
      "Epoch 35 complete\n",
      "Epoch 36 complete\n",
      "Epoch 37 complete\n",
      "Epoch 38 complete\n",
      "Epoch 39 complete\n"
     ]
    }
   ],
   "source": [
    "clf.fit(training, epochs=40, mini_batch_size=30, l_rate=0.0005)"
   ]
  },
  {
   "cell_type": "code",
   "execution_count": 17,
   "metadata": {},
   "outputs": [
    {
     "name": "stdout",
     "output_type": "stream",
     "text": [
      "Neurel Net Acc:  0.694\n"
     ]
    }
   ],
   "source": [
    "predictions = clf.predict(X_test)\n",
    "acc_1 = accuracy_score(y_test, predictions)\n",
    "print(\"Neurel Net Acc: \",acc_1)"
   ]
  },
  {
   "cell_type": "code",
   "execution_count": null,
   "metadata": {},
   "outputs": [],
   "source": []
  },
  {
   "cell_type": "code",
   "execution_count": 7,
   "metadata": {},
   "outputs": [],
   "source": [
    "test_results = [np.array([i, out]) for i, out in enumerate(predictions)]"
   ]
  },
  {
   "cell_type": "code",
   "execution_count": 8,
   "metadata": {},
   "outputs": [],
   "source": [
    "# Run this only if test set was actual test set from competition\n",
    "np.savetxt('./data/test_y.csv', test_results, delimiter=',', fmt='%d', header='Id,Label')"
   ]
  }
 ],
 "metadata": {
  "kernelspec": {
   "display_name": "Python 3",
   "language": "python",
   "name": "python3"
  },
  "language_info": {
   "codemirror_mode": {
    "name": "ipython",
    "version": 3
   },
   "file_extension": ".py",
   "mimetype": "text/x-python",
   "name": "python",
   "nbconvert_exporter": "python",
   "pygments_lexer": "ipython3",
   "version": "3.6.4"
  }
 },
 "nbformat": 4,
 "nbformat_minor": 1
}
