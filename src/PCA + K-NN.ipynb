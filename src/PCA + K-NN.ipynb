{
 "cells": [
  {
   "cell_type": "code",
   "execution_count": 9,
   "metadata": {},
   "outputs": [
    {
     "data": {
      "text/plain": [
       "<module 'pre_processing' from 'C:\\\\Users\\\\Pasha\\\\Documents\\\\GitHub\\\\ml-kaggle-MNIST\\\\src\\\\pre_processing.py'>"
      ]
     },
     "execution_count": 9,
     "metadata": {},
     "output_type": "execute_result"
    }
   ],
   "source": [
    "import numpy as np\n",
    "import pandas as pd\n",
    "import pre_processing as pp\n",
    "\n",
    "from matplotlib import pyplot as plt\n",
    "\n",
    "from sklearn import cross_validation\n",
    "from sklearn.decomposition import PCA\n",
    "from sklearn.svm import LinearSVC\n",
    "from sklearn.neighbors import KNeighborsClassifier\n",
    "from sklearn.metrics import accuracy_score\n",
    "from sklearn.model_selection import train_test_split, GridSearchCV\n",
    "from importlib import reload"
   ]
  },
  {
   "cell_type": "code",
   "execution_count": 2,
   "metadata": {},
   "outputs": [
    {
     "ename": "AttributeError",
     "evalue": "module 'pre_processing' has no attribute 'get_test_local'",
     "traceback": [
      "\u001b[1;31m---------------------------------------------------------------------------\u001b[0m",
      "\u001b[1;31mAttributeError\u001b[0m                            Traceback (most recent call last)",
      "\u001b[1;32m<ipython-input-2-bb9684da3e5e>\u001b[0m in \u001b[0;36m<module>\u001b[1;34m()\u001b[0m\n\u001b[0;32m      1\u001b[0m \u001b[0mtraining\u001b[0m \u001b[1;33m=\u001b[0m \u001b[0mpp\u001b[0m\u001b[1;33m.\u001b[0m\u001b[0mget_training_local\u001b[0m\u001b[1;33m(\u001b[0m\u001b[1;33m)\u001b[0m\u001b[1;33m\u001b[0m\u001b[0m\n\u001b[1;32m----> 2\u001b[1;33m \u001b[0mtest\u001b[0m \u001b[1;33m=\u001b[0m \u001b[0mpp\u001b[0m\u001b[1;33m.\u001b[0m\u001b[0mget_test_local\u001b[0m\u001b[1;33m(\u001b[0m\u001b[1;33m)\u001b[0m\u001b[1;33m\u001b[0m\u001b[0m\n\u001b[0m",
      "\u001b[1;31mAttributeError\u001b[0m: module 'pre_processing' has no attribute 'get_test_local'"
     ],
     "output_type": "error"
    }
   ],
   "source": [
    "training = pp.get_training()\n",
    "test = pp.get_test()"
   ]
  },
  {
   "cell_type": "code",
   "execution_count": 11,
   "metadata": {},
   "outputs": [],
   "source": [
    "X_train = np.array([x for x, y in training])\n",
    "y_train = np.array([y for x, y in training])\n",
    "X_test = test\n",
    "X_train = X_train.reshape(X_train.shape[0], 1, 64, 64)\n",
    "X_train = X_train.reshape(-1, 64, 64)\n",
    "y_train = y_train.reshape(-1, 1)\n",
    "X_train = X_train.reshape(len(X_train),-1)"
   ]
  },
  {
   "cell_type": "code",
   "execution_count": 12,
   "metadata": {},
   "outputs": [],
   "source": [
    "X_test = X_test.reshape(X_test.shape[0], 1, 64, 64)\n",
    "X_test = X_test.reshape(-1, 64, 64)\n",
    "X_test = X_test.reshape(len(X_test),-1)"
   ]
  },
  {
   "cell_type": "code",
   "execution_count": 37,
   "metadata": {},
   "outputs": [
    {
     "data": {
      "text/plain": [
       "Text(0,0.5,'Cumulative explained variance')"
      ]
     },
     "execution_count": 37,
     "metadata": {},
     "output_type": "execute_result"
    },
    {
     "data": {
      "image/png": "[encoded data removed]",
      "text/plain": [
       "<matplotlib.figure.Figure at 0x1cd10baf898>"
      ]
     },
     "metadata": {},
     "output_type": "display_data"
    }
   ],
   "source": [
    "pca = PCA(100)\n",
    "pca_full = pca.fit(X_train)\n",
    "\n",
    "plt.plot(np.cumsum(pca_full.explained_variance_ratio_))\n",
    "plt.xlabel('# of components')\n",
    "plt.ylabel('Cumulative explained variance')"
   ]
  },
  {
   "cell_type": "code",
   "execution_count": 15,
   "metadata": {},
   "outputs": [],
   "source": [
    "pca = PCA(n_components=50)\n",
    "X_train_pca = pca.fit_transform(X_train)\n",
    "X_test_pca = pca.transform(X_test)"
   ]
  },
  {
   "cell_type": "code",
   "execution_count": null,
   "metadata": {},
   "outputs": [],
   "source": []
  },
  {
   "cell_type": "code",
   "execution_count": 16,
   "metadata": {},
   "outputs": [],
   "source": [
    "X_train_cv, X_test_cv, y_train_cv, y_test_cv = cross_validation.train_test_split(X_train_pca,y_train,test_size=0.2,random_state=0)"
   ]
  },
  {
   "cell_type": "code",
   "execution_count": 17,
   "metadata": {},
   "outputs": [
    {
     "name": "stdout",
     "output_type": "stream",
     "text": [
      "Fitting 3 folds for each of 12 candidates, totalling 36 fits\n"
     ]
    },
    {
     "name": "stderr",
     "output_type": "stream",
     "text": [
      "[Parallel(n_jobs=-1)]: Done  32 out of  36 | elapsed: 19.2min remaining:  2.4min\n",
      "[Parallel(n_jobs=-1)]: Done  36 out of  36 | elapsed: 19.5min finished\n",
      "C:\\Users\\Pasha\\Anaconda3\\lib\\site-packages\\sklearn\\model_selection\\_search.py:739: DataConversionWarning: A column-vector y was passed when a 1d array was expected. Please change the shape of y to (n_samples, ), for example using ravel().\n",
      "  self.best_estimator_.fit(X, y, **fit_params)\n"
     ]
    }
   ],
   "source": [
    "#K_values = [1,5,10,25,100,500,1000,5000,10000]\n",
    "K_values = [3,4,5,6,7,10,15,25,100]\n",
    "metric = [\"minkowski\",\"hamming\",\"manhattan\",\"canberra\",\"braycurtis\",\"euclidean\",\"chebyshev\"]\n",
    "\n",
    "params = {'n_neighbors':K_values, 'algorithm' : ['auto'], 'metric':metric}\n",
    "\n",
    "clsf = KNeighborsClassifier()\n",
    "grid_knn = GridSearchCV(estimator=clsf,param_grid=params,n_jobs=-1, verbose=2)\n",
    "grid_knn.fit(X_train_cv, y_train_cv)\n",
    "\n",
    "sorted(grid_knn.cv_results_.keys())\n",
    "\n",
    "best_classifier = grid_knn.best_estimator_\n",
    "best_classifier_submit = grid_knn.best_estimator_\n",
    "best_params = grid_knn.best_params_"
   ]
  },
  {
   "cell_type": "code",
   "execution_count": 70,
   "metadata": {},
   "outputs": [
    {
     "name": "stderr",
     "output_type": "stream",
     "text": [
      "C:\\Users\\Pasha\\Anaconda3\\lib\\site-packages\\sklearn\\model_selection\\_search.py:761: DeprecationWarning: The grid_scores_ attribute was deprecated in version 0.18 in favor of the more elaborate cv_results_ attribute. The grid_scores_ attribute will not be available from 0.20\n",
      "  DeprecationWarning)\n",
      "C:\\Users\\Pasha\\Anaconda3\\lib\\site-packages\\sklearn\\model_selection\\_search.py:761: DeprecationWarning: The grid_scores_ attribute was deprecated in version 0.18 in favor of the more elaborate cv_results_ attribute. The grid_scores_ attribute will not be available from 0.20\n",
      "  DeprecationWarning)\n"
     ]
    },
    {
     "data": {
      "text/html": [
       "<div>\n",
       "<style scoped>\n",
       "    .dataframe tbody tr th:only-of-type {\n",
       "        vertical-align: middle;\n",
       "    }\n",
       "\n",
       "    .dataframe tbody tr th {\n",
       "        vertical-align: top;\n",
       "    }\n",
       "\n",
       "    .dataframe thead th {\n",
       "        text-align: right;\n",
       "    }\n",
       "</style>\n",
       "<table border=\"1\" class=\"dataframe\">\n",
       "  <thead>\n",
       "    <tr style=\"text-align: right;\">\n",
       "      <th></th>\n",
       "      <th>minkowski</th>\n",
       "      <th>hamming</th>\n",
       "      <th>manhattan</th>\n",
       "      <th>canberra</th>\n",
       "      <th>braycurtis</th>\n",
       "      <th>euclidean</th>\n",
       "      <th>chebyshev</th>\n",
       "    </tr>\n",
       "  </thead>\n",
       "  <tbody>\n",
       "    <tr>\n",
       "      <th>5</th>\n",
       "      <td>0.909625</td>\n",
       "      <td>0.0998</td>\n",
       "      <td>0.907375</td>\n",
       "      <td>0.8883</td>\n",
       "      <td>0.914325</td>\n",
       "      <td>0.909625</td>\n",
       "      <td>0.894275</td>\n",
       "    </tr>\n",
       "    <tr>\n",
       "      <th>6</th>\n",
       "      <td>0.9085</td>\n",
       "      <td>0.0998</td>\n",
       "      <td>0.90715</td>\n",
       "      <td>0.88995</td>\n",
       "      <td>0.9142</td>\n",
       "      <td>0.9085</td>\n",
       "      <td>0.8941</td>\n",
       "    </tr>\n",
       "    <tr>\n",
       "      <th>7</th>\n",
       "      <td>0.9088</td>\n",
       "      <td>0.0998</td>\n",
       "      <td>0.906525</td>\n",
       "      <td>0.89165</td>\n",
       "      <td>0.9142</td>\n",
       "      <td>0.9088</td>\n",
       "      <td>0.894275</td>\n",
       "    </tr>\n",
       "    <tr>\n",
       "      <th>10</th>\n",
       "      <td>0.906075</td>\n",
       "      <td>0.101175</td>\n",
       "      <td>0.90375</td>\n",
       "      <td>0.8925</td>\n",
       "      <td>0.9126</td>\n",
       "      <td>0.906075</td>\n",
       "      <td>0.891375</td>\n",
       "    </tr>\n",
       "    <tr>\n",
       "      <th>15</th>\n",
       "      <td>0.901675</td>\n",
       "      <td>0.10115</td>\n",
       "      <td>0.898725</td>\n",
       "      <td>0.891425</td>\n",
       "      <td>0.9095</td>\n",
       "      <td>0.901675</td>\n",
       "      <td>0.888475</td>\n",
       "    </tr>\n",
       "    <tr>\n",
       "      <th>25</th>\n",
       "      <td>0.89555</td>\n",
       "      <td>0.10115</td>\n",
       "      <td>0.89345</td>\n",
       "      <td>0.8901</td>\n",
       "      <td>0.904175</td>\n",
       "      <td>0.89555</td>\n",
       "      <td>0.8805</td>\n",
       "    </tr>\n",
       "    <tr>\n",
       "      <th>100</th>\n",
       "      <td>0.868775</td>\n",
       "      <td>0.0998</td>\n",
       "      <td>0.86125</td>\n",
       "      <td>0.8754</td>\n",
       "      <td>0.883525</td>\n",
       "      <td>0.868775</td>\n",
       "      <td>0.851675</td>\n",
       "    </tr>\n",
       "  </tbody>\n",
       "</table>\n",
       "</div>"
      ],
      "text/plain": [
       "    minkowski   hamming manhattan  canberra braycurtis euclidean chebyshev\n",
       "5    0.909625    0.0998  0.907375    0.8883   0.914325  0.909625  0.894275\n",
       "6      0.9085    0.0998   0.90715   0.88995     0.9142    0.9085    0.8941\n",
       "7      0.9088    0.0998  0.906525   0.89165     0.9142    0.9088  0.894275\n",
       "10   0.906075  0.101175   0.90375    0.8925     0.9126  0.906075  0.891375\n",
       "15   0.901675   0.10115  0.898725  0.891425     0.9095  0.901675  0.888475\n",
       "25    0.89555   0.10115   0.89345    0.8901   0.904175   0.89555    0.8805\n",
       "100  0.868775    0.0998   0.86125    0.8754   0.883525  0.868775  0.851675"
      ]
     },
     "execution_count": 70,
     "metadata": {},
     "output_type": "execute_result"
    }
   ],
   "source": [
    "grid_knn.grid_scores_[0][0]['metric']\n",
    "df = pd.DataFrame(columns=metric, index=K_values)\n",
    "for i in grid_knn.grid_scores_:\n",
    "    df[i[0]['metric']][i[0]['n_neighbors']] = i[1]\n",
    "\n",
    "df"
   ]
  },
  {
   "cell_type": "code",
   "execution_count": 20,
   "metadata": {},
   "outputs": [
    {
     "name": "stderr",
     "output_type": "stream",
     "text": [
      "C:\\Users\\Pasha\\Anaconda3\\lib\\site-packages\\ipykernel_launcher.py:3: DataConversionWarning: A column-vector y was passed when a 1d array was expected. Please change the shape of y to (n_samples, ), for example using ravel().\n",
      "  This is separate from the ipykernel package so we can avoid doing imports until\n"
     ]
    }
   ],
   "source": [
    "scores = grid_knn.cv_results_['mean_test_score'].reshape(12)\n",
    "#plot_param_space_scores(scores, C_values)\n",
    "best_clsf = best_classifier.fit(X_train_cv,y_train_cv)"
   ]
  },
  {
   "cell_type": "code",
   "execution_count": 21,
   "metadata": {},
   "outputs": [],
   "source": [
    "y_pred_knn = best_clsf.predict(X_test_cv)"
   ]
  },
  {
   "cell_type": "code",
   "execution_count": 22,
   "metadata": {},
   "outputs": [
    {
     "name": "stdout",
     "output_type": "stream",
     "text": [
      "K-NearestNeighbors accuracy:  0.9225\n"
     ]
    }
   ],
   "source": [
    "acc_knn = accuracy_score(y_test_cv, y_pred_knn)\n",
    "print(\"K-NearestNeighbors accuracy: \",acc_knn)"
   ]
  },
  {
   "cell_type": "code",
   "execution_count": 24,
   "metadata": {},
   "outputs": [
    {
     "name": "stderr",
     "output_type": "stream",
     "text": [
      "C:\\Users\\Pasha\\Anaconda3\\lib\\site-packages\\ipykernel_launcher.py:1: DataConversionWarning: A column-vector y was passed when a 1d array was expected. Please change the shape of y to (n_samples, ), for example using ravel().\n",
      "  \"\"\"Entry point for launching an IPython kernel.\n"
     ]
    }
   ],
   "source": [
    "best_clsf_submit = best_classifier_submit.fit(X_train_pca,y_train)"
   ]
  },
  {
   "cell_type": "code",
   "execution_count": 25,
   "metadata": {},
   "outputs": [],
   "source": [
    "knn_deep_pred = best_clsf_submit.predict(X_test_pca)"
   ]
  },
  {
   "cell_type": "code",
   "execution_count": 36,
   "metadata": {},
   "outputs": [],
   "source": [
    "knn_deep_pred_nums = np.array([np.argmax(pred) for pred in knn_deep_pred])\n",
    "knn_deep_pred_final = np.array([(i, x) for (i, x) in enumerate(knn_deep_pred)])\n",
    "np.savetxt('../data/test_knn.csv', knn_deep_pred_final, delimiter=',', fmt='%d', header='Id,Label')"
   ]
  }
 ],
 "metadata": {
  "kernelspec": {
   "display_name": "Python 3",
   "language": "python",
   "name": "python3"
  },
  "language_info": {
   "codemirror_mode": {
    "name": "ipython",
    "version": 3
   },
   "file_extension": ".py",
   "mimetype": "text/x-python",
   "name": "python",
   "nbconvert_exporter": "python",
   "pygments_lexer": "ipython3",
   "version": "3.6.4"
  }
 },
 "nbformat": 4,
 "nbformat_minor": 2
}
