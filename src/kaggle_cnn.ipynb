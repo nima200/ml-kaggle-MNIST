{
 "cells": [
  {
   "cell_type": "code",
   "execution_count": 39,
   "metadata": {},
   "outputs": [],
   "source": [
    "import numpy as np\n",
    "from keras.models import Sequential\n",
    "from keras.layers import Dense\n",
    "from keras.layers import Dropout\n",
    "from keras.layers import Flatten\n",
    "from keras.layers.convolutional import Conv2D\n",
    "from keras.layers.convolutional import MaxPooling2D\n",
    "from keras.layers.advanced_activations import LeakyReLU\n",
    "from keras.utils import np_utils\n",
    "from keras import backend as K\n",
    "import pre_processing as pp\n",
    "from importlib import reload\n",
    "K.set_image_dim_ordering('th')"
   ]
  },
  {
   "cell_type": "code",
   "execution_count": 40,
   "metadata": {},
   "outputs": [],
   "source": [
    "training = pp.get_training()"
   ]
  },
  {
   "cell_type": "code",
   "execution_count": 42,
   "metadata": {},
   "outputs": [],
   "source": [
    "test = pp.get_test()"
   ]
  },
  {
   "cell_type": "code",
   "execution_count": 43,
   "metadata": {},
   "outputs": [],
   "source": [
    "X_train = np.array([x for x, y in training])\n",
    "y_train = np.array([y for x, y in training])\n",
    "X_test = test"
   ]
  },
  {
   "cell_type": "code",
   "execution_count": 44,
   "metadata": {},
   "outputs": [],
   "source": [
    "pixel_count = X_train.shape[1] * X_train.shape[2]"
   ]
  },
  {
   "cell_type": "code",
   "execution_count": 45,
   "metadata": {},
   "outputs": [],
   "source": [
    "# Normalize values (0-1)\n",
    "X_train = np.divide(X_train, 255)\n",
    "X_test = np.divide(X_test, 255)\n",
    "y_train = np_utils.to_categorical(y_train)"
   ]
  },
  {
   "cell_type": "code",
   "execution_count": 46,
   "metadata": {},
   "outputs": [],
   "source": [
    "class_count = y_train.shape[1]"
   ]
  },
  {
   "cell_type": "code",
   "execution_count": 47,
   "metadata": {},
   "outputs": [],
   "source": [
    "# Seed for reproducibility\n",
    "seed = 42\n",
    "np.random.seed(seed)"
   ]
  },
  {
   "cell_type": "code",
   "execution_count": 12,
   "metadata": {},
   "outputs": [],
   "source": [
    "# Flatten\n",
    "# X_train = X_train.reshape(X_train.shape[0], pixel_count).astype('float32')\n",
    "# X_test = X_test.reshape(X_test.shape[0], pixel_count).astype('float32')"
   ]
  },
  {
   "cell_type": "code",
   "execution_count": 13,
   "metadata": {},
   "outputs": [],
   "source": [
    "# BASE NEURAL NETWORK MODEL\n",
    "# def base_nn():\n",
    "#     nn_model = Sequential()\n",
    "#     # Relu hidden layer, same number of neurons as input layer\n",
    "#     nn_model.add(Dense(pixel_count, input_dim=pixel_count, kernel_initializer='normal', activation='relu'))\n",
    "#     # Softmax output layer\n",
    "#     nn_model.add(Dense(class_count, kernel_initializer='normal', activation='softmax'))\n",
    "#     # Compile\n",
    "#     nn_model.compile(loss='categorical_crossentropy', optimizer='adam', metrics=['accuracy'])\n",
    "#     return nn_model"
   ]
  },
  {
   "cell_type": "code",
   "execution_count": 14,
   "metadata": {},
   "outputs": [],
   "source": [
    "# # Create a base neural network model\n",
    "# model = base_nn()\n",
    "# model.fit(X_train, y_train_vec, validation_data=(X_test, y_test_vec), epochs=10, batch_size=50, verbose=2)\n",
    "# scores = model.evaluate(X_test, y_test_vec, verbose=0)\n",
    "# print(\"Baseline Error %.2f%%\" % (100-scores[1]*100))"
   ]
  },
  {
   "cell_type": "code",
   "execution_count": 48,
   "metadata": {},
   "outputs": [],
   "source": [
    "# FOR CNN\n",
    "X_train = X_train.reshape(X_train.shape[0], 1, 28, 28).astype('float32')\n",
    "X_test = X_test.reshape(X_test.shape[0], 1, 28, 28).astype('float32')"
   ]
  },
  {
   "cell_type": "code",
   "execution_count": 16,
   "metadata": {},
   "outputs": [],
   "source": [
    "def base_cnn():\n",
    "    model = Sequential()\n",
    "    model.add(Conv2D(32, (5, 5), input_shape=(1, 28, 28), activation='relu'))\n",
    "    model.add(MaxPooling2D(pool_size=(2, 2)))\n",
    "    model.add(Dropout(0.2))\n",
    "    model.add(Flatten())\n",
    "    model.add(Dense(128, activation='relu'))\n",
    "    model.add(Dense(class_count, activation='softmax'))\n",
    "    # Compile\n",
    "    model.compile(loss='categorical_crossentropy', optimizer='adam', metrics=['accuracy'])\n",
    "    return model"
   ]
  },
  {
   "cell_type": "code",
   "execution_count": 17,
   "metadata": {},
   "outputs": [
    {
     "name": "stdout",
     "output_type": "stream",
     "text": [
      "Epoch 1/100\n",
      " - 131s - loss: 0.8086 - acc: 0.7740\n",
      "Epoch 2/100\n",
      " - 130s - loss: 0.5454 - acc: 0.8609\n",
      "Epoch 3/100\n",
      " - 130s - loss: 0.4841 - acc: 0.8762\n",
      "Epoch 4/100\n",
      " - 130s - loss: 0.4471 - acc: 0.8833\n",
      "Epoch 5/100\n",
      " - 131s - loss: 0.4157 - acc: 0.8900\n",
      "Epoch 6/100\n",
      " - 130s - loss: 0.3877 - acc: 0.8960\n",
      "Epoch 7/100\n",
      " - 129s - loss: 0.3632 - acc: 0.9017\n",
      "Epoch 8/100\n",
      " - 128s - loss: 0.3371 - acc: 0.9066\n",
      "Epoch 9/100\n",
      " - 129s - loss: 0.3123 - acc: 0.9117\n",
      "Epoch 10/100\n",
      " - 129s - loss: 0.2927 - acc: 0.9146\n",
      "Epoch 11/100\n",
      " - 128s - loss: 0.2682 - acc: 0.9207\n",
      "Epoch 12/100\n",
      " - 129s - loss: 0.2477 - acc: 0.9250\n",
      "Epoch 13/100\n",
      " - 129s - loss: 0.2253 - acc: 0.9312\n",
      "Epoch 14/100\n",
      " - 129s - loss: 0.2084 - acc: 0.9352\n",
      "Epoch 15/100\n",
      " - 127s - loss: 0.1864 - acc: 0.9418\n",
      "Epoch 16/100\n",
      " - 128s - loss: 0.1689 - acc: 0.9459\n",
      "Epoch 17/100\n",
      " - 129s - loss: 0.1550 - acc: 0.9490\n",
      "Epoch 18/100\n",
      " - 128s - loss: 0.1348 - acc: 0.9555\n",
      "Epoch 19/100\n",
      " - 129s - loss: 0.1211 - acc: 0.9598\n",
      "Epoch 20/100\n",
      " - 129s - loss: 0.1104 - acc: 0.9631\n",
      "Epoch 21/100\n",
      " - 130s - loss: 0.1018 - acc: 0.9664\n",
      "Epoch 22/100\n",
      " - 130s - loss: 0.0902 - acc: 0.9705\n",
      "Epoch 23/100\n",
      " - 130s - loss: 0.0815 - acc: 0.9718\n",
      "Epoch 24/100\n",
      " - 130s - loss: 0.0738 - acc: 0.9751\n",
      "Epoch 25/100\n",
      " - 129s - loss: 0.0679 - acc: 0.9767\n",
      "Epoch 26/100\n",
      " - 129s - loss: 0.0644 - acc: 0.9785\n",
      "Epoch 27/100\n",
      " - 130s - loss: 0.0610 - acc: 0.9788\n",
      "Epoch 28/100\n",
      " - 129s - loss: 0.0558 - acc: 0.9809\n",
      "Epoch 29/100\n",
      " - 129s - loss: 0.0505 - acc: 0.9837\n",
      "Epoch 30/100\n",
      " - 130s - loss: 0.0477 - acc: 0.9845\n",
      "Epoch 31/100\n",
      " - 129s - loss: 0.0447 - acc: 0.9855\n",
      "Epoch 32/100\n",
      " - 129s - loss: 0.0457 - acc: 0.9845\n",
      "Epoch 33/100\n",
      " - 129s - loss: 0.0425 - acc: 0.9857\n",
      "Epoch 34/100\n",
      " - 128s - loss: 0.0390 - acc: 0.9873\n",
      "Epoch 35/100\n",
      " - 129s - loss: 0.0379 - acc: 0.9874\n",
      "Epoch 36/100\n",
      " - 129s - loss: 0.0371 - acc: 0.9871\n",
      "Epoch 37/100\n",
      " - 129s - loss: 0.0364 - acc: 0.9876\n",
      "Epoch 38/100\n",
      " - 127s - loss: 0.0308 - acc: 0.9897\n",
      "Epoch 39/100\n",
      " - 128s - loss: 0.0314 - acc: 0.9896\n",
      "Epoch 40/100\n",
      " - 128s - loss: 0.0338 - acc: 0.9881\n",
      "Epoch 41/100\n",
      " - 128s - loss: 0.0307 - acc: 0.9901\n",
      "Epoch 42/100\n",
      " - 128s - loss: 0.0278 - acc: 0.9906\n",
      "Epoch 43/100\n",
      " - 128s - loss: 0.0301 - acc: 0.9896\n",
      "Epoch 44/100\n",
      " - 128s - loss: 0.0267 - acc: 0.9910\n",
      "Epoch 45/100\n",
      " - 128s - loss: 0.0268 - acc: 0.9910\n",
      "Epoch 46/100\n",
      " - 129s - loss: 0.0281 - acc: 0.9907\n",
      "Epoch 47/100\n",
      " - 129s - loss: 0.0263 - acc: 0.9908\n",
      "Epoch 48/100\n",
      " - 128s - loss: 0.0230 - acc: 0.9923\n",
      "Epoch 49/100\n",
      " - 129s - loss: 0.0240 - acc: 0.9919\n",
      "Epoch 50/100\n",
      " - 130s - loss: 0.0238 - acc: 0.9921\n",
      "Epoch 51/100\n",
      " - 129s - loss: 0.0255 - acc: 0.9913\n",
      "Epoch 52/100\n",
      " - 130s - loss: 0.0252 - acc: 0.9911\n",
      "Epoch 53/100\n",
      " - 129s - loss: 0.0223 - acc: 0.9922\n",
      "Epoch 54/100\n",
      " - 129s - loss: 0.0205 - acc: 0.9935\n",
      "Epoch 55/100\n",
      " - 129s - loss: 0.0217 - acc: 0.9926\n",
      "Epoch 56/100\n",
      " - 129s - loss: 0.0208 - acc: 0.9932\n",
      "Epoch 57/100\n",
      " - 129s - loss: 0.0215 - acc: 0.9927\n",
      "Epoch 58/100\n",
      " - 129s - loss: 0.0198 - acc: 0.9935\n",
      "Epoch 59/100\n",
      " - 130s - loss: 0.0175 - acc: 0.9942\n",
      "Epoch 60/100\n",
      " - 129s - loss: 0.0206 - acc: 0.9929\n",
      "Epoch 61/100\n",
      " - 129s - loss: 0.0187 - acc: 0.9936\n",
      "Epoch 62/100\n",
      " - 129s - loss: 0.0200 - acc: 0.9933\n",
      "Epoch 63/100\n",
      " - 128s - loss: 0.0171 - acc: 0.9945\n",
      "Epoch 64/100\n",
      " - 129s - loss: 0.0175 - acc: 0.9945\n",
      "Epoch 65/100\n",
      " - 128s - loss: 0.0166 - acc: 0.9945\n",
      "Epoch 66/100\n",
      " - 128s - loss: 0.0150 - acc: 0.9951\n",
      "Epoch 67/100\n",
      " - 128s - loss: 0.0178 - acc: 0.9938\n",
      "Epoch 68/100\n",
      " - 128s - loss: 0.0181 - acc: 0.9940\n",
      "Epoch 69/100\n",
      " - 129s - loss: 0.0183 - acc: 0.9939\n",
      "Epoch 70/100\n",
      " - 128s - loss: 0.0180 - acc: 0.9935\n",
      "Epoch 71/100\n",
      " - 128s - loss: 0.0151 - acc: 0.9950\n",
      "Epoch 72/100\n",
      " - 129s - loss: 0.0125 - acc: 0.9958\n",
      "Epoch 73/100\n",
      " - 129s - loss: 0.0170 - acc: 0.9937\n",
      "Epoch 74/100\n",
      " - 128s - loss: 0.0163 - acc: 0.9946\n",
      "Epoch 75/100\n",
      " - 129s - loss: 0.0166 - acc: 0.9943\n",
      "Epoch 76/100\n",
      " - 130s - loss: 0.0151 - acc: 0.9946\n",
      "Epoch 77/100\n",
      " - 130s - loss: 0.0174 - acc: 0.9943\n",
      "Epoch 78/100\n",
      " - 129s - loss: 0.0131 - acc: 0.9958\n",
      "Epoch 79/100\n",
      " - 130s - loss: 0.0143 - acc: 0.9953\n",
      "Epoch 80/100\n",
      " - 129s - loss: 0.0155 - acc: 0.9949\n",
      "Epoch 81/100\n",
      " - 129s - loss: 0.0140 - acc: 0.9957\n",
      "Epoch 82/100\n",
      " - 128s - loss: 0.0133 - acc: 0.9954\n",
      "Epoch 83/100\n",
      " - 129s - loss: 0.0147 - acc: 0.9950\n",
      "Epoch 84/100\n",
      " - 130s - loss: 0.0166 - acc: 0.9944\n",
      "Epoch 85/100\n",
      " - 130s - loss: 0.0140 - acc: 0.9952\n",
      "Epoch 86/100\n",
      " - 129s - loss: 0.0131 - acc: 0.9955\n",
      "Epoch 87/100\n",
      " - 129s - loss: 0.0129 - acc: 0.9956\n",
      "Epoch 88/100\n",
      " - 128s - loss: 0.0126 - acc: 0.9960\n",
      "Epoch 89/100\n",
      " - 129s - loss: 0.0135 - acc: 0.9952\n",
      "Epoch 90/100\n",
      " - 129s - loss: 0.0131 - acc: 0.9956\n",
      "Epoch 91/100\n",
      " - 129s - loss: 0.0128 - acc: 0.9957\n",
      "Epoch 92/100\n",
      " - 128s - loss: 0.0114 - acc: 0.9961\n",
      "Epoch 93/100\n",
      " - 128s - loss: 0.0129 - acc: 0.9954\n",
      "Epoch 94/100\n",
      " - 128s - loss: 0.0129 - acc: 0.9957\n",
      "Epoch 95/100\n",
      " - 128s - loss: 0.0141 - acc: 0.9954\n",
      "Epoch 96/100\n",
      " - 128s - loss: 0.0132 - acc: 0.9952\n",
      "Epoch 97/100\n",
      " - 128s - loss: 0.0119 - acc: 0.9960\n",
      "Epoch 98/100\n",
      " - 126s - loss: 0.0108 - acc: 0.9965\n",
      "Epoch 99/100\n",
      " - 128s - loss: 0.0125 - acc: 0.9957\n",
      "Epoch 100/100\n",
      " - 128s - loss: 0.0118 - acc: 0.9962\n"
     ]
    },
    {
     "data": {
      "text/plain": [
       "<keras.callbacks.History at 0x7faff045e710>"
      ]
     },
     "execution_count": 17,
     "metadata": {},
     "output_type": "execute_result"
    }
   ],
   "source": [
    "cnn_model = base_cnn()\n",
    "cnn_model.fit(X_train, y_train, epochs=100, batch_size=200, verbose=2)"
   ]
  },
  {
   "cell_type": "code",
   "execution_count": 49,
   "metadata": {},
   "outputs": [],
   "source": [
    "def larger_cnn():\n",
    "    # create model\n",
    "    model = Sequential()\n",
    "    model.add(Conv2D(30, (5, 5), input_shape=(1, 28, 28), activation='linear'))\n",
    "    model.add(LeakyReLU(alpha=0.001))\n",
    "    model.add(MaxPooling2D(pool_size=(2, 2)))\n",
    "    model.add(Conv2D(15, (3, 3), activation='linear'))\n",
    "    model.add(LeakyReLU(alpha=0.001))\n",
    "    model.add(MaxPooling2D(pool_size=(2, 2)))\n",
    "    model.add(Dropout(0.2))\n",
    "    model.add(Flatten())\n",
    "    model.add(Dense(128, activation='linear'))\n",
    "    model.add(LeakyReLU(alpha=0.001))\n",
    "    model.add(Dense(50, activation='linear'))\n",
    "    model.add(LeakyReLU(alpha=0.001))\n",
    "    model.add(Dense(class_count, activation='softmax'))\n",
    "    # Compile\n",
    "    model.compile(loss='categorical_crossentropy', optimizer='adam', metrics=['accuracy'])\n",
    "    return model"
   ]
  },
  {
   "cell_type": "code",
   "execution_count": null,
   "metadata": {},
   "outputs": [
    {
     "name": "stdout",
     "output_type": "stream",
     "text": [
      "Epoch 1/100\n",
      " - 150s - loss: 1.6260 - acc: 0.4374\n",
      "Epoch 2/100\n",
      " - 148s - loss: 0.8724 - acc: 0.7281\n",
      "Epoch 3/100\n",
      " - 149s - loss: 0.6839 - acc: 0.7980\n",
      "Epoch 4/100\n",
      " - 148s - loss: 0.5849 - acc: 0.8309\n",
      "Epoch 5/100\n",
      " - 148s - loss: 0.5153 - acc: 0.8533\n",
      "Epoch 6/100\n",
      " - 148s - loss: 0.4617 - acc: 0.8705\n",
      "Epoch 7/100\n",
      " - 149s - loss: 0.4209 - acc: 0.8854\n",
      "Epoch 8/100\n",
      " - 149s - loss: 0.3981 - acc: 0.8927\n",
      "Epoch 9/100\n",
      " - 149s - loss: 0.3760 - acc: 0.8989\n",
      "Epoch 10/100\n",
      " - 148s - loss: 0.3591 - acc: 0.9028\n",
      "Epoch 11/100\n",
      " - 149s - loss: 0.3445 - acc: 0.9062\n",
      "Epoch 12/100\n",
      " - 148s - loss: 0.3335 - acc: 0.9101\n",
      "Epoch 13/100\n",
      " - 149s - loss: 0.3212 - acc: 0.9143\n",
      "Epoch 14/100\n",
      " - 148s - loss: 0.3146 - acc: 0.9157\n",
      "Epoch 15/100\n",
      " - 148s - loss: 0.3075 - acc: 0.9174\n",
      "Epoch 16/100\n",
      " - 149s - loss: 0.2998 - acc: 0.9205\n",
      "Epoch 17/100\n",
      " - 148s - loss: 0.2941 - acc: 0.9217\n",
      "Epoch 18/100\n",
      " - 149s - loss: 0.2886 - acc: 0.9234\n",
      "Epoch 19/100\n",
      " - 148s - loss: 0.2853 - acc: 0.9241\n",
      "Epoch 20/100\n",
      " - 149s - loss: 0.2810 - acc: 0.9247\n",
      "Epoch 21/100\n",
      " - 149s - loss: 0.2733 - acc: 0.9272\n",
      "Epoch 22/100\n",
      " - 149s - loss: 0.2665 - acc: 0.9290\n",
      "Epoch 23/100\n",
      " - 148s - loss: 0.2645 - acc: 0.9289\n",
      "Epoch 24/100\n",
      " - 149s - loss: 0.2602 - acc: 0.9304\n",
      "Epoch 25/100\n",
      " - 150s - loss: 0.2580 - acc: 0.9314\n",
      "Epoch 26/100\n",
      " - 150s - loss: 0.2530 - acc: 0.9329\n",
      "Epoch 27/100\n",
      " - 150s - loss: 0.2491 - acc: 0.9352\n",
      "Epoch 28/100\n",
      " - 150s - loss: 0.2486 - acc: 0.9339\n",
      "Epoch 29/100\n",
      " - 150s - loss: 0.2427 - acc: 0.9358\n",
      "Epoch 30/100\n",
      " - 150s - loss: 0.2398 - acc: 0.9363\n",
      "Epoch 31/100\n",
      " - 149s - loss: 0.2395 - acc: 0.9356\n",
      "Epoch 32/100\n",
      " - 150s - loss: 0.2340 - acc: 0.9371\n",
      "Epoch 33/100\n",
      " - 149s - loss: 0.2291 - acc: 0.9390\n",
      "Epoch 34/100\n",
      " - 148s - loss: 0.2307 - acc: 0.9372\n",
      "Epoch 35/100\n",
      " - 150s - loss: 0.2268 - acc: 0.9390\n",
      "Epoch 36/100\n",
      " - 149s - loss: 0.2245 - acc: 0.9399\n",
      "Epoch 37/100\n",
      " - 149s - loss: 0.2219 - acc: 0.9418\n",
      "Epoch 38/100\n",
      " - 151s - loss: 0.2179 - acc: 0.9412\n",
      "Epoch 39/100\n",
      " - 148s - loss: 0.2200 - acc: 0.9408\n",
      "Epoch 40/100\n",
      " - 149s - loss: 0.2137 - acc: 0.9430\n",
      "Epoch 41/100\n",
      " - 150s - loss: 0.2116 - acc: 0.9429\n",
      "Epoch 42/100\n",
      " - 149s - loss: 0.2116 - acc: 0.9432\n",
      "Epoch 43/100\n",
      " - 150s - loss: 0.2093 - acc: 0.9441\n",
      "Epoch 44/100\n",
      " - 149s - loss: 0.2064 - acc: 0.9438\n",
      "Epoch 45/100\n",
      " - 147s - loss: 0.2075 - acc: 0.9439\n",
      "Epoch 46/100\n",
      " - 148s - loss: 0.2015 - acc: 0.9451\n",
      "Epoch 47/100\n",
      " - 150s - loss: 0.2005 - acc: 0.9459\n",
      "Epoch 48/100\n",
      " - 148s - loss: 0.1983 - acc: 0.9458\n",
      "Epoch 49/100\n"
     ]
    }
   ],
   "source": [
    "cnn_model_larger = larger_cnn()\n",
    "cnn_model_larger.fit(X_train, y_train, epochs=100, batch_size=200, verbose=2)"
   ]
  },
  {
   "cell_type": "code",
   "execution_count": 21,
   "metadata": {},
   "outputs": [],
   "source": [
    "cnn_pred = cnn_model.predict(X_test)"
   ]
  },
  {
   "cell_type": "code",
   "execution_count": 24,
   "metadata": {},
   "outputs": [],
   "source": [
    "cnn_pred_nums = np.array([np.argmax(pred) for pred in cnn_pred])"
   ]
  },
  {
   "cell_type": "code",
   "execution_count": 28,
   "metadata": {},
   "outputs": [],
   "source": [
    "cnn_pred_final = np.array([(i, x) for (i, x) in enumerate(cnn_pred_nums)])"
   ]
  },
  {
   "cell_type": "code",
   "execution_count": 31,
   "metadata": {},
   "outputs": [],
   "source": [
    "np.savetxt('../data/test_y.csv', cnn_pred_final, delimiter=',', fmt='%d', header='Id,Label')"
   ]
  },
  {
   "cell_type": "code",
   "execution_count": 34,
   "metadata": {},
   "outputs": [],
   "source": [
    "cnn_large_pred = cnn_model_larger.predict(X_test)"
   ]
  },
  {
   "cell_type": "code",
   "execution_count": 35,
   "metadata": {},
   "outputs": [],
   "source": [
    "cnn_large_pred_nums = np.array([np.argmax(pred) for pred in cnn_large_pred])"
   ]
  },
  {
   "cell_type": "code",
   "execution_count": 36,
   "metadata": {},
   "outputs": [],
   "source": [
    "cnn_large_pred_final = np.array([(i, x) for (i, x) in enumerate(cnn_large_pred_nums)])"
   ]
  },
  {
   "cell_type": "code",
   "execution_count": 37,
   "metadata": {},
   "outputs": [],
   "source": [
    "np.savetxt('../data/test_y_largecnn_rawdata.csv', cnn_large_pred_final, delimiter=',', fmt='%d', header='Id,Label')"
   ]
  },
  {
   "cell_type": "code",
   "execution_count": null,
   "metadata": {},
   "outputs": [],
   "source": []
  }
 ],
 "metadata": {
  "kernelspec": {
   "display_name": "Python 3",
   "language": "python",
   "name": "python3"
  },
  "language_info": {
   "codemirror_mode": {
    "name": "ipython",
    "version": 3
   },
   "file_extension": ".py",
   "mimetype": "text/x-python",
   "name": "python",
   "nbconvert_exporter": "python",
   "pygments_lexer": "ipython3",
   "version": "3.6.4"
  }
 },
 "nbformat": 4,
 "nbformat_minor": 2
}
