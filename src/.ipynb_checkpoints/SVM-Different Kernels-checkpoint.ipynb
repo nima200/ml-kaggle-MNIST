{
 "cells": [
  {
   "cell_type": "code",
   "execution_count": 1,
   "metadata": {},
   "outputs": [
    {
     "name": "stderr",
     "output_type": "stream",
     "text": [
      "C:\\Users\\Pasha\\Anaconda3\\lib\\site-packages\\sklearn\\cross_validation.py:41: DeprecationWarning: This module was deprecated in version 0.18 in favor of the model_selection module into which all the refactored classes and functions are moved. Also note that the interface of the new CV iterators are different from that of this module. This module will be removed in 0.20.\n",
      "  \"This module will be removed in 0.20.\", DeprecationWarning)\n"
     ]
    }
   ],
   "source": [
    "import numpy as np\n",
    "import pandas as pd\n",
    "import pre_processing as pp\n",
    "\n",
    "from matplotlib import pyplot as plt\n",
    "\n",
    "from sklearn import cross_validation\n",
    "from sklearn.ensemble import RandomForestClassifier\n",
    "from sklearn.svm import LinearSVC\n",
    "from sklearn.linear_model import SGDClassifier\n",
    "from sklearn.neighbors import KNeighborsClassifier\n",
    "from sklearn.metrics import accuracy_score\n",
    "from sklearn.model_selection import train_test_split, GridSearchCV"
   ]
  },
  {
   "cell_type": "code",
   "execution_count": 2,
   "metadata": {},
   "outputs": [],
   "source": [
    "training = pp.get_training()\n",
    "test = pp.get_test()"
   ]
  },
  {
   "cell_type": "code",
   "execution_count": 3,
   "metadata": {},
   "outputs": [],
   "source": [
    "X_train = np.array([x for x, y in training])\n",
    "y_train = np.array([y for x, y in training])\n",
    "X_test = test\n",
    "X_train = X_train.reshape(X_train.shape[0], 1, 28, 28)\n",
    "X_train = X_train.reshape(-1, 28, 28)\n",
    "y_train = y_train.reshape(-1, 1)\n",
    "X_train = X_train.reshape(len(X_train),-1)\n"
   ]
  },
  {
   "cell_type": "code",
   "execution_count": 4,
   "metadata": {},
   "outputs": [],
   "source": [
    "X_train_cv, X_test_cv, y_train_cv, y_test_cv = cross_validation.train_test_split(X_train/255.,y_train,test_size=0.2,random_state=0)"
   ]
  },
  {
   "cell_type": "code",
   "execution_count": 7,
   "metadata": {},
   "outputs": [
    {
     "name": "stdout",
     "output_type": "stream",
     "text": [
      "Fitting 3 folds for each of 6 candidates, totalling 18 fits\n"
     ]
    },
    {
     "name": "stderr",
     "output_type": "stream",
     "text": [
      "[Parallel(n_jobs=10)]: Done   9 out of  18 | elapsed:   21.2s remaining:   21.2s\n",
      "[Parallel(n_jobs=10)]: Done  18 out of  18 | elapsed:   35.8s finished\n",
      "C:\\Users\\Pasha\\Anaconda3\\lib\\site-packages\\sklearn\\utils\\validation.py:578: DataConversionWarning: A column-vector y was passed when a 1d array was expected. Please change the shape of y to (n_samples, ), for example using ravel().\n",
      "  y = column_or_1d(y, warn=True)\n"
     ]
    }
   ],
   "source": [
    "C_values = np.outer(np.logspace(-1, 1, 3),np.array([1,5]))\n",
    "C_values = C_values.flatten()\n",
    "\n",
    "params = {'C':C_values, 'dual': [False]}\n",
    "\n",
    "clsf = LinearSVC()\n",
    "grid_svm = GridSearchCV(estimator=clsf,param_grid=params,n_jobs=10, verbose=2)\n",
    "grid_svm.fit(X_train_cv, y_train_cv)\n",
    "\n",
    "sorted(grid_svm.cv_results_.keys())\n",
    "\n",
    "best_classifier = grid_svm.best_estimator_\n",
    "best_params = grid_svm.best_params_"
   ]
  },
  {
   "cell_type": "code",
   "execution_count": 12,
   "metadata": {},
   "outputs": [
    {
     "name": "stderr",
     "output_type": "stream",
     "text": [
      "C:\\Users\\Pasha\\Anaconda3\\lib\\site-packages\\sklearn\\utils\\validation.py:578: DataConversionWarning: A column-vector y was passed when a 1d array was expected. Please change the shape of y to (n_samples, ), for example using ravel().\n",
      "  y = column_or_1d(y, warn=True)\n"
     ]
    }
   ],
   "source": [
    "scores = grid_svm.cv_results_['mean_test_score'].reshape(len(C_values))\n",
    "#plot_param_space_scores(scores, C_values)\n",
    "best_clsf = best_classifier.fit(X_train_cv,y_train_cv)"
   ]
  },
  {
   "cell_type": "code",
   "execution_count": 14,
   "metadata": {},
   "outputs": [
    {
     "name": "stdout",
     "output_type": "stream",
     "text": [
      "Linear SVM accuracy:  0.7701\n"
     ]
    }
   ],
   "source": [
    "y_pred_svm = best_clsf.predict(X_test_cv)\n",
    "acc_svm = accuracy_score(y_test_cv, y_pred_svm)\n",
    "print(\"Linear SVM accuracy: \",acc_svm)"
   ]
  }
 ],
 "metadata": {
  "kernelspec": {
   "display_name": "Python 3",
   "language": "python",
   "name": "python3"
  },
  "language_info": {
   "codemirror_mode": {
    "name": "ipython",
    "version": 3
   },
   "file_extension": ".py",
   "mimetype": "text/x-python",
   "name": "python",
   "nbconvert_exporter": "python",
   "pygments_lexer": "ipython3",
   "version": "3.6.4"
  }
 },
 "nbformat": 4,
 "nbformat_minor": 2
}
